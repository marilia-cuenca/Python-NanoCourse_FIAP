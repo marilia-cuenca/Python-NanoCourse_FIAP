{
  "nbformat": 4,
  "nbformat_minor": 0,
  "metadata": {
    "colab": {
      "name": "Nano Course FIAP - Python_Aula 04",
      "provenance": [],
      "authorship_tag": "ABX9TyOZjcGCNqxbvQrc3Vjb0T7f",
      "include_colab_link": true
    },
    "kernelspec": {
      "name": "python3",
      "display_name": "Python 3"
    },
    "language_info": {
      "name": "python"
    }
  },
  "cells": [
    {
      "cell_type": "markdown",
      "metadata": {
        "id": "view-in-github",
        "colab_type": "text"
      },
      "source": [
        "<a href=\"https://colab.research.google.com/github/marilia-cuenca/Nano-Course_FIAP/blob/main/Nano_Course_FIAP_Python_Aula_04.ipynb\" target=\"_parent\"><img src=\"https://colab.research.google.com/assets/colab-badge.svg\" alt=\"Open In Colab\"/></a>"
      ]
    },
    {
      "cell_type": "code",
      "metadata": {
        "id": "mKgbaWG4ZWaP"
      },
      "source": [
        "usuarios = {}\n",
        "usuarios = {\n",
        "    \"Chaves\": [\"Chaves Silva\", \"17/06/2017\", \"Recep_01\"],\n",
        "    \"Quico\": [\"Enrico Flores\", \"03/06/2017\", \"Raiox_02\"]\n",
        "}\n",
        "usuarios[\"Florinda\"] = [\"Florinda Flores\", \"26/11/2017\", \"Recep_01\"]\n",
        "print(usuarios)\n",
        "print(\"=-\" * 84)\n",
        "print(\"Dados: \", usuarios.get(\"Chapolim\"))\n"
      ],
      "execution_count": null,
      "outputs": []
    },
    {
      "cell_type": "code",
      "metadata": {
        "id": "jfHrTGJXebjC"
      },
      "source": [
        "usuarios = {}\n",
        "opcao = input(\"\\nO que deseja fazer?\" + \n",
        "              \"\\n<I> - Para inserir um novo usuário\" +\n",
        "              \"\\n<P> - Para pesquisar um usuário\" +\n",
        "              \"\\n<E> - Para excluir um usuário\" +\n",
        "              \"\\n<L> - Para listar um usuário \").upper()\n",
        "\n",
        "while opcao==\"I\" or \"opcao\"==\"P\" or opcao==\"E\" or \"opcao\"==\"L\":\n",
        "  if opcao==\"I\":\n",
        "    chave = input(\"Digite o login: \").upper()\n",
        "    usuarios[chave] = [input(\"Digite o nome: \").upper(),\n",
        "                       input(\"Digite a última data de acesso: \"),\n",
        "                       input(\"Digite a última estação acessada: \").upper()]\n",
        "  opcao = input(\"O que deseja fazer?\" + \n",
        "              \"\\n<I> - Para inserir um novo usuário\" +\n",
        "              \"\\n<P> - Para pesquisar um usuário\" +\n",
        "              \"\\n<E> - Para excluir um usuário\" +\n",
        "              \"\\n<L> - Para listar um usuário: \").upper()\n"
      ],
      "execution_count": null,
      "outputs": []
    },
    {
      "cell_type": "code",
      "metadata": {
        "id": "IlGQehRgg-7x"
      },
      "source": [
        "from Funcoes.py import *\n",
        "usuarios = {}\n",
        "\n",
        "def pesquisar(dicionario, chave):\n",
        "  lista=dicionario.get(chave)\n",
        "  if lista!=None:\n",
        "    print(\"Nome...............: \" + lista[0])\n",
        "    print(\"Último acesso......: \" + lista[1])\n",
        "    print(\"Última estação.....: \" + lista[2])\n",
        "\n",
        "def excluir(dicionario, chave):\n",
        "  if dicionario.get(chave)!=None:\n",
        "    del dicionario[chave]\n",
        "  print(\"Objeto eliminado\")\n",
        "\n",
        "def listar(dicionario):\n",
        "  for chave, valor in dicionario.items():\n",
        "    print(\"Objeto.........: \")\n",
        "    print(\"Login..........: \", chave)\n",
        "    print(\"Dados..........: \", valor)\n",
        "\n",
        "opcao = perguntar()\n",
        "while opcao== \"I\" or opcao==\"P\" or opcao==\"E\" or opcao==\"L\":\n",
        "  if opcao==\"I\":\n",
        "    inserir(usuarios)\n",
        "  if opcao==\"P\":\n",
        "    pesquisar(usuarios, input(\"Qual login deseja pesquisar? \"))\n",
        "  if opcao==\"E\":\n",
        "    excluir(usuarios, input(\"Qual login deseja excluir? \"))\n",
        "  if opcao==\"L\":\n",
        "    listar(usuarios)\n",
        "  opcao = perguntar()\n",
        "  "
      ],
      "execution_count": null,
      "outputs": []
    },
    {
      "cell_type": "code",
      "metadata": {
        "id": "PLq4EW_NO0ed"
      },
      "source": [
        "#Tuplas\n",
        "ips = {}\n",
        "resp = \"S\"\n",
        "while resp == \"S\":\n",
        "  ips[(input('Digite os dois primeiros octetos: '),\n",
        "       input('Digite os dois últimos octetos: '))] = input('Nome da máquina: ')\n",
        "  resp = input('Digite <S> para continuar: ').upper()\n",
        "\n",
        "print('Exibindo IPs: ')\n",
        "for ip in ips.keys():\n",
        "  print(ip[0]+'.'+ip[1])\n",
        "\n",
        "print('Exibindo máquinas com o mesmo endereço: ')\n",
        "pesquisa = input('Digite os dois últimos octetos: ')\n",
        "for ip,nome in ips.items():\n",
        "  print('Máquinas no mesmo endereço (redes diferentes)')\n",
        "  if(ip[1]==pesquisa):\n",
        "    print(nome)\n",
        "\n",
        "print('Exibindo as máquinas que compõem uma mesma rede: ')\n",
        "rede = input('Digite os dois primeiros octetos: ')\n",
        "for ip,nome in ips.items():\n",
        "  if(ip[0]==rede):\n",
        "    print(nome)\n"
      ],
      "execution_count": null,
      "outputs": []
    },
    {
      "cell_type": "code",
      "metadata": {
        "id": "tUuSY-bpRFGR"
      },
      "source": [
        "usuarios = {}\n",
        "resp = 'S'\n",
        "emails = []\n",
        "while resp == 'S':\n",
        "  emails.append(input('Digite um e-mail: ').lower())\n",
        "  resp = input('Digite <S> para continuar: ').upper()\n",
        "\n",
        "tupla = list(enumerate(emails))\n",
        "for chave in range(0,len(tupla)):\n",
        "  print('E-mail: ', tupla[chave][1])\n",
        "  usuarios[tupla[chave]] = [input('Digite o nome: '), input('Digite o nível: ')]\n",
        "\n",
        "for chave, dado in usuarios.items():\n",
        "  print('Usuário.....: ', chave[0])\n",
        "  print('E-mail......: ', chave[1])\n",
        "  print('Nome........: ', dado[0])\n",
        "  print('Nível.......: ', dado[1])\n"
      ],
      "execution_count": null,
      "outputs": []
    }
  ]
}